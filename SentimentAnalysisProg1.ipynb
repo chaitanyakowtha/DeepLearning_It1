{
 "cells": [
  {
   "cell_type": "code",
   "execution_count": 1,
   "metadata": {
    "scrolled": false
   },
   "outputs": [
    {
     "name": "stderr",
     "output_type": "stream",
     "text": [
      "C:\\Users\\chait\\Anaconda3\\lib\\site-packages\\h5py\\__init__.py:34: FutureWarning: Conversion of the second argument of issubdtype from `float` to `np.floating` is deprecated. In future, it will be treated as `np.float64 == np.dtype(float).type`.\n",
      "  from ._conv import register_converters as _register_converters\n"
     ]
    }
   ],
   "source": [
    "import tensorflow as tf"
   ]
  },
  {
   "cell_type": "code",
   "execution_count": 15,
   "metadata": {
    "scrolled": true
   },
   "outputs": [],
   "source": [
    "#from create_sentiment_features import create_feature_sets_and_labels"
   ]
  },
  {
   "cell_type": "code",
   "execution_count": 21,
   "metadata": {
    "collapsed": true
   },
   "outputs": [],
   "source": [
    "import pickle\n",
    "import numpy as np"
   ]
  },
  {
   "cell_type": "code",
   "execution_count": 18,
   "metadata": {},
   "outputs": [],
   "source": [
    "pickle_in = open(\"sentiment_set.pickle\",\"rb\")\n",
    "train_x,train_y,test_x,test_y = pickle.load(pickle_in)"
   ]
  },
  {
   "cell_type": "code",
   "execution_count": 20,
   "metadata": {},
   "outputs": [
    {
     "data": {
      "text/plain": [
       "9596"
      ]
     },
     "execution_count": 20,
     "metadata": {},
     "output_type": "execute_result"
    }
   ],
   "source": [
    "len(train_x)"
   ]
  },
  {
   "cell_type": "code",
   "execution_count": 23,
   "metadata": {},
   "outputs": [
    {
     "name": "stdout",
     "output_type": "stream",
     "text": [
      "Epoch 0 completed out of 10 loss: 319774.4569091797\n",
      "Epoch 1 completed out of 10 loss: 155881.10580444336\n",
      "Epoch 2 completed out of 10 loss: 90599.78912353516\n",
      "Epoch 3 completed out of 10 loss: 55965.53015136719\n",
      "Epoch 4 completed out of 10 loss: 42632.22664642334\n",
      "Epoch 5 completed out of 10 loss: 41221.02437591553\n",
      "Epoch 6 completed out of 10 loss: 47314.46713256836\n",
      "Epoch 7 completed out of 10 loss: 31216.31622505188\n",
      "Epoch 8 completed out of 10 loss: 24387.407606124878\n",
      "Epoch 9 completed out of 10 loss: 10819.474604189396\n",
      "Accuracy: 0.5694184\n"
     ]
    }
   ],
   "source": [
    "n_nodes_hl1 = 500\n",
    "n_nodes_hl2 = 500\n",
    "n_nodes_hl3 = 500\n",
    "\n",
    "n_classes = 2\n",
    "batch_size = 64\n",
    "\n",
    "X = tf.placeholder('float32',[None, len(train_x[0])])\n",
    "Y = tf.placeholder('float32')\n",
    "\n",
    "# Below function is a computational graph for the neural network\n",
    "\n",
    "def neural_network_model(data):\n",
    "    hidden_1_layer = {'weights':tf.Variable(tf.random_normal([len(train_x[0]),n_nodes_hl1])),\n",
    "                     'biases': tf.Variable(tf.random_normal([n_nodes_hl1]))}\n",
    "    hidden_2_layer = {'weights':tf.Variable(tf.random_normal([n_nodes_hl1,n_nodes_hl2])),\n",
    "                     'biases': tf.Variable(tf.random_normal([n_nodes_hl2]))}\n",
    "    hidden_3_layer = {'weights':tf.Variable(tf.random_normal([n_nodes_hl2,n_nodes_hl3])),\n",
    "                     'biases': tf.Variable(tf.random_normal([n_nodes_hl3]))}\n",
    "    output_layer = {'weights':tf.Variable(tf.random_normal([n_nodes_hl3,n_classes])),\n",
    "                     'biases': tf.Variable(tf.random_normal([n_classes]))}\n",
    "    # layer1\n",
    "    l1 = tf.add(tf.matmul(data,hidden_1_layer['weights']),hidden_1_layer['biases'])\n",
    "    l1 = tf.nn.relu(l1)\n",
    "    #Layer2\n",
    "    l2 = tf.add(tf.matmul(l1,hidden_2_layer['weights']),hidden_2_layer['biases'])\n",
    "    l2 = tf.nn.relu(l2)\n",
    "    #Layer3\n",
    "    l3 = tf.add(tf.matmul(l2,hidden_3_layer['weights']),hidden_3_layer['biases'])\n",
    "    l3 = tf.nn.relu(l3)\n",
    "    # Output Layer\n",
    "    Output = tf.add(tf.matmul(l3,output_layer['weights']),output_layer['biases'])\n",
    "    \n",
    "    return Output\n",
    "\n",
    "# Below function train the model\n",
    "def train_neural_network(x):\n",
    "    prediction = neural_network_model(x)\n",
    "    cost = tf.reduce_mean(tf.nn.softmax_cross_entropy_with_logits(logits =prediction,labels =Y))\n",
    "    \n",
    "    optimizer = tf.train.AdamOptimizer().minimize(cost) # We can define learning rate also here, \n",
    "    #in this example we are taking learning rate as default 0.01\n",
    "    \n",
    "    hm_epochs = 10 # Giving number of epochs\n",
    "    \n",
    "    with tf.Session() as sess:\n",
    "        sess.run(tf.initialize_all_variables())\n",
    "    \n",
    "        for epoch in range(hm_epochs):\n",
    "            epoch_loss = 0\n",
    "            \n",
    "            i = 0\n",
    "            while i < len(train_x):\n",
    "                start = i\n",
    "                end = i + batch_size\n",
    "                \n",
    "                batch_x = np.array(train_x[start:end])\n",
    "                batch_y = np.array(train_y[start:end])\n",
    "                \n",
    "            #for _ in range(int(mnist.train.num_examples/batch_size)):\n",
    "             #   epoch_x,epoch_y = mnist.train.next_batch(batch_size)\n",
    "                _, c = sess.run([optimizer, cost], feed_dict = {X: batch_x,Y: batch_y})\n",
    "                epoch_loss += c\n",
    "                \n",
    "                i+= batch_size\n",
    "                \n",
    "            print('Epoch', epoch, 'completed out of', hm_epochs, \"loss:\" ,epoch_loss)\n",
    "\n",
    "####################################################\n",
    "# Till here we trained the network\n",
    "    \n",
    "# Now we are testing this on test data\n",
    "        correct = tf.equal(tf.argmax(prediction,1),tf.argmax(Y,1))\n",
    "        accuracy = tf.reduce_mean(tf.cast(correct,'float'))\n",
    "        print('Accuracy:',accuracy.eval({X:test_x, Y:test_y}))\n",
    "    \n",
    "train_neural_network(X)"
   ]
  },
  {
   "cell_type": "code",
   "execution_count": null,
   "metadata": {
    "collapsed": true
   },
   "outputs": [],
   "source": []
  }
 ],
 "metadata": {
  "kernelspec": {
   "display_name": "Python 3",
   "language": "python",
   "name": "python3"
  },
  "language_info": {
   "codemirror_mode": {
    "name": "ipython",
    "version": 3
   },
   "file_extension": ".py",
   "mimetype": "text/x-python",
   "name": "python",
   "nbconvert_exporter": "python",
   "pygments_lexer": "ipython3",
   "version": "3.6.3"
  }
 },
 "nbformat": 4,
 "nbformat_minor": 2
}
